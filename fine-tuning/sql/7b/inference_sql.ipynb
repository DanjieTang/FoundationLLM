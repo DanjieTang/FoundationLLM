{
  "cells": [
    {
      "cell_type": "code",
      "source": [
        "!pip install peft\n",
        "!pip install transformers\n",
        "!pip install bitsandbytes\n",
        "!pip install accelerate"
      ],
      "metadata": {
        "id": "37ynDEjPD5d0"
      },
      "id": "37ynDEjPD5d0",
      "execution_count": null,
      "outputs": []
    },
    {
      "cell_type": "markdown",
      "id": "402fd19d-bc01-421b-8c94-66e018971756",
      "metadata": {
        "id": "402fd19d-bc01-421b-8c94-66e018971756"
      },
      "source": [
        "# Download the model(8gb vram min)"
      ]
    },
    {
      "cell_type": "code",
      "source": [
        "# You need a huggingface token that can access llama2\n",
        "from huggingface_hub import notebook_login\n",
        "notebook_login()"
      ],
      "metadata": {
        "id": "bsDOyf46EFg1"
      },
      "id": "bsDOyf46EFg1",
      "execution_count": null,
      "outputs": []
    },
    {
      "cell_type": "code",
      "execution_count": null,
      "id": "e5001890-3e28-4ca7-a5ab-c533446c233c",
      "metadata": {
        "id": "e5001890-3e28-4ca7-a5ab-c533446c233c"
      },
      "outputs": [],
      "source": [
        "import torch\n",
        "from peft import PeftModel, PeftConfig\n",
        "from transformers import AutoModelForCausalLM, AutoTokenizer\n",
        "device = torch.device(\"cuda\" if torch.cuda.is_available() else \"cpu\")\n",
        "\n",
        "peft_model_id = \"Danjie/SQLMaster\"\n",
        "config = PeftConfig.from_pretrained(peft_model_id)\n",
        "tokenizer = AutoTokenizer.from_pretrained(config.base_model_name_or_path)\n",
        "model = AutoModelForCausalLM.from_pretrained(config.base_model_name_or_path, return_dict=True, load_in_8bit=True, device_map='auto')\n",
        "model.resize_token_embeddings(len(tokenizer) + 1)\n",
        "\n",
        "# Load the Lora model\n",
        "model = PeftModel.from_pretrained(model, peft_model_id)"
      ]
    },
    {
      "cell_type": "markdown",
      "id": "812449b4-2842-424b-baec-4c0c9352a5d5",
      "metadata": {
        "id": "812449b4-2842-424b-baec-4c0c9352a5d5"
      },
      "source": [
        "# Inference"
      ]
    },
    {
      "cell_type": "code",
      "execution_count": null,
      "id": "e036b565-1856-46d1-ac7a-a7d0a13494d3",
      "metadata": {
        "id": "e036b565-1856-46d1-ac7a-a7d0a13494d3"
      },
      "outputs": [],
      "source": [
        "def create_sql_query(question: str, context: str) -> str:\n",
        "    input = \"Question: \" + question + \"\\nContext:\" + context + \"\\nAnswer\"\n",
        "\n",
        "    # Encode and move tensor into cuda if applicable.\n",
        "    encoded_input = tokenizer(input, return_tensors='pt')\n",
        "    encoded_input = {k: v.to(device) for k, v in encoded_input.items()}\n",
        "\n",
        "    output = model.generate(**encoded_input, max_new_tokens=256)\n",
        "    response = tokenizer.decode(output[0], skip_special_tokens=True)\n",
        "    response = response[len(input):]\n",
        "    return response"
      ]
    },
    {
      "cell_type": "code",
      "execution_count": null,
      "id": "ce060014-2502-4b68-92e8-2e775338816f",
      "metadata": {
        "id": "ce060014-2502-4b68-92e8-2e775338816f"
      },
      "outputs": [],
      "source": [
        "create_sql_query(\"What is the highest age of users with name Danjie\", \"CREATE TABLE user (age INTEGER, name STRING)\")"
      ]
    }
  ],
  "metadata": {
    "kernelspec": {
      "display_name": "Python 3",
      "name": "python3"
    },
    "language_info": {
      "codemirror_mode": {
        "name": "ipython",
        "version": 3
      },
      "file_extension": ".py",
      "mimetype": "text/x-python",
      "name": "python",
      "nbconvert_exporter": "python",
      "pygments_lexer": "ipython3",
      "version": "3.10.12"
    },
    "colab": {
      "provenance": [],
      "gpuType": "T4"
    },
    "accelerator": "GPU"
  },
  "nbformat": 4,
  "nbformat_minor": 5
}