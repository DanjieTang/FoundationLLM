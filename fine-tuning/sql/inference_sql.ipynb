{
 "cells": [
  {
   "cell_type": "markdown",
   "id": "402fd19d-bc01-421b-8c94-66e018971756",
   "metadata": {},
   "source": [
    "# Download the model(8gb vram min)"
   ]
  },
  {
   "cell_type": "code",
   "execution_count": null,
   "id": "e5001890-3e28-4ca7-a5ab-c533446c233c",
   "metadata": {},
   "outputs": [],
   "source": [
    "import torch\n",
    "from peft import PeftModel, PeftConfig\n",
    "from transformers import AutoModelForCausalLM, AutoTokenizer\n",
    "device = torch.device(\"cuda\" if torch.cuda.is_available() else \"cpu\")\n",
    "\n",
    "peft_model_id = \"Danjie/SQLMaster\"\n",
    "config = PeftConfig.from_pretrained(peft_model_id)\n",
    "tokenizer = AutoTokenizer.from_pretrained(config.base_model_name_or_path)\n",
    "model = AutoModelForCausalLM.from_pretrained(config.base_model_name_or_path, return_dict=True, load_in_8bit=True, device_map='auto')\n",
    "model.resize_token_embeddings(len(tokenizer) + 1)\n",
    "\n",
    "# Load the Lora model\n",
    "model = PeftModel.from_pretrained(model, peft_model_id)"
   ]
  },
  {
   "cell_type": "markdown",
   "id": "812449b4-2842-424b-baec-4c0c9352a5d5",
   "metadata": {},
   "source": [
    "# Inference"
   ]
  },
  {
   "cell_type": "code",
   "execution_count": null,
   "id": "e036b565-1856-46d1-ac7a-a7d0a13494d3",
   "metadata": {},
   "outputs": [],
   "source": [
    "def create_sql_query(question: str, context: str) -> str:\n",
    "    input = \"Question: \" + question + \"\\nContext:\" + context + \"\\nAnswer\"\n",
    "    \n",
    "    # Encode and move tensor into cuda if applicable.\n",
    "    encoded_input = tokenizer(input, return_tensors='pt')\n",
    "    encoded_input = {k: v.to(device) for k, v in encoded_input.items()}\n",
    "\n",
    "    output = model.generate(**encoded_input, max_new_tokens=256)\n",
    "    response = tokenizer.decode(output[0], skip_special_tokens=True)\n",
    "    response = response[len(input):]\n",
    "    return response"
   ]
  },
  {
   "cell_type": "code",
   "execution_count": null,
   "id": "ce060014-2502-4b68-92e8-2e775338816f",
   "metadata": {},
   "outputs": [],
   "source": [
    "create_sql_query(\"What is the highest age of users with name Danjie\", \"CREATE TABLE user (age INTEGER, name STRING)\")"
   ]
  }
 ],
 "metadata": {
  "kernelspec": {
   "display_name": "Python 3 (ipykernel)",
   "language": "python",
   "name": "python3"
  },
  "language_info": {
   "codemirror_mode": {
    "name": "ipython",
    "version": 3
   },
   "file_extension": ".py",
   "mimetype": "text/x-python",
   "name": "python",
   "nbconvert_exporter": "python",
   "pygments_lexer": "ipython3",
   "version": "3.10.12"
  }
 },
 "nbformat": 4,
 "nbformat_minor": 5
}
