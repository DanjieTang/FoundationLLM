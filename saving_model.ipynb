{
 "cells": [
  {
   "cell_type": "code",
   "execution_count": null,
   "id": "f5b143a7-9d0f-4397-b12b-d2ae3420923e",
   "metadata": {},
   "outputs": [],
   "source": [
    "!pip uninstall transformers\n",
    "!pip install transformers==4.31"
   ]
  },
  {
   "cell_type": "code",
   "execution_count": null,
   "id": "61afae75-b36a-4521-84e0-aa69795bedbe",
   "metadata": {},
   "outputs": [],
   "source": [
    "from transformers import AutoModelForCausalLM, AutoTokenizer, BitsAndBytesConfig"
   ]
  },
  {
   "cell_type": "code",
   "execution_count": null,
   "id": "289502b9-99f7-4193-866e-82c995c130a9",
   "metadata": {},
   "outputs": [],
   "source": [
    "model_name = \"NousResearch/Llama-2-7b-chat-hf\"\n",
    "tokenizer = AutoTokenizer.from_pretrained(model_name, trust_remote_code=True)\n",
    "model = AutoModelForCausalLM.from_pretrained(model_name, trust_remote_code=True, device_map=\"cuda\", load_in_8bit=True)"
   ]
  },
  {
   "cell_type": "code",
   "execution_count": null,
   "id": "6e67c7cf-476c-4493-af1d-72451eb646c0",
   "metadata": {},
   "outputs": [],
   "source": [
    "model.save_pretrained(\"test\")\n",
    "tokenizer.save_pretrained(\"test\")"
   ]
  },
  {
   "cell_type": "code",
   "execution_count": null,
   "id": "6296eaf2-7c78-4fc3-ba6c-d2ab49719c24",
   "metadata": {},
   "outputs": [],
   "source": [
    "model_name = \"test\"\n",
    "tokenizer = AutoTokenizer.from_pretrained(model_name, trust_remote_code=True)\n",
    "model = AutoModelForCausalLM.from_pretrained(model_name, trust_remote_code=True, device_map=\"cuda\")"
   ]
  },
  {
   "cell_type": "code",
   "execution_count": null,
   "id": "2b212301-afd2-4d43-bd54-5640c97ec51e",
   "metadata": {},
   "outputs": [],
   "source": [
    "prompt = \"Write me a poem about a starry night.\" \n",
    "input_ids = tokenizer.encode(prompt, return_tensors=\"pt\")"
   ]
  },
  {
   "cell_type": "code",
   "execution_count": null,
   "id": "a45a6507-130a-4c3d-a3c4-25cc8ddffd3b",
   "metadata": {},
   "outputs": [],
   "source": [
    "output_sequences = model.generate(\n",
    "    input_ids=input_ids,\n",
    "    max_length=50,\n",
    "    temperature=0.7,  # Adjust temperature for creativity\n",
    ")\n",
    "\n",
    "generated_text = tokenizer.decode(output_sequences[0], skip_special_tokens=True)\n",
    "print(generated_text)"
   ]
  }
 ],
 "metadata": {
  "kernelspec": {
   "display_name": "Python 3 (ipykernel)",
   "language": "python",
   "name": "python3"
  },
  "language_info": {
   "codemirror_mode": {
    "name": "ipython",
    "version": 3
   },
   "file_extension": ".py",
   "mimetype": "text/x-python",
   "name": "python",
   "nbconvert_exporter": "python",
   "pygments_lexer": "ipython3",
   "version": "3.10.12"
  }
 },
 "nbformat": 4,
 "nbformat_minor": 5
}
